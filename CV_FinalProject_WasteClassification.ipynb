{
  "nbformat": 4,
  "nbformat_minor": 0,
  "metadata": {
    "colab": {
      "provenance": [],
      "gpuType": "T4",
      "collapsed_sections": [
        "1E-IcdMz8LcT",
        "TbbnrhJlOCe0",
        "2iXyhkhdTexQ",
        "96ZEuc0qKDWQ"
      ],
      "mount_file_id": "1QYOtXmY9xV8a4Z32Ha4Xz2pkzFnT8S6C",
      "authorship_tag": "ABX9TyPw9tLV4jkf9c30iZnLQNUA",
      "include_colab_link": true
    },
    "kernelspec": {
      "name": "python3",
      "display_name": "Python 3"
    },
    "language_info": {
      "name": "python"
    },
    "accelerator": "GPU"
  },
  "cells": [
    {
      "cell_type": "markdown",
      "metadata": {
        "id": "view-in-github",
        "colab_type": "text"
      },
      "source": [
        "<a href=\"https://colab.research.google.com/github/ZhuRuoyu/computer-vision-waste-classification/blob/main/CV_FinalProject_WasteClassification.ipynb\" target=\"_parent\"><img src=\"https://colab.research.google.com/assets/colab-badge.svg\" alt=\"Open In Colab\"/></a>"
      ]
    },
    {
      "cell_type": "markdown",
      "source": [
        "# data description\n",
        "https://www.kaggle.com/datasets/mostafaabla/garbage-classification\n",
        "\n",
        "- 12 classes\n",
        "- 15,150 images\n",
        "- some examples: ...\n",
        "\n",
        "# data prep\n",
        "\n",
        "- data augmentation: create more samples for minority classes\n",
        "- `split-folders` load train/test dataset\n",
        "\n",
        "\n",
        "# modeling\n",
        "try 3 transfer learning methods and compare the accuracies\n",
        "\n",
        "  - CNN from scratch\n",
        "  - VGG\n",
        "  - ResNet\n",
        "  - AlexNet\n",
        "\n",
        "\n"
      ],
      "metadata": {
        "id": "AXl1Tt6Xw2Fg"
      }
    },
    {
      "cell_type": "code",
      "execution_count": 1,
      "metadata": {
        "id": "bsvAlVotInH9"
      },
      "outputs": [],
      "source": [
        "import torch\n",
        "import torch.nn as nn\n",
        "import torch.nn.functional as F\n",
        "from torch.utils.data import DataLoader, TensorDataset\n",
        "\n",
        "from torchvision import datasets, transforms, models\n",
        "from torchvision.utils import make_grid\n",
        "from torchsummary import summary #model summary\n",
        "\n",
        "import numpy as np\n",
        "import pandas as pd\n",
        "import matplotlib.pyplot as plt\n",
        "\n",
        "!pip install split-folders\n",
        "import splitfolders\n",
        "import os"
      ]
    },
    {
      "cell_type": "code",
      "source": [
        "device = torch.device('cuda:0' if torch.cuda.is_available() else 'cpu')\n",
        "print(device)"
      ],
      "metadata": {
        "colab": {
          "base_uri": "https://localhost:8080/"
        },
        "id": "TC_ImwJ9JpMt",
        "outputId": "33e494d6-f5aa-45b5-f0b0-4ba54a937ad5"
      },
      "execution_count": 3,
      "outputs": [
        {
          "output_type": "stream",
          "name": "stdout",
          "text": [
            "cuda:0\n"
          ]
        }
      ]
    },
    {
      "cell_type": "markdown",
      "source": [
        "# data prep\n",
        "\n",
        "- data augmentation (?)\n",
        "- `splitfolders`\n",
        "- `transform_scratch`, `transform_restnet`,\n",
        "`transform_vgg`, `transform_alexnet`"
      ],
      "metadata": {
        "id": "1E-IcdMz8LcT"
      }
    },
    {
      "cell_type": "code",
      "source": [
        "from google.colab import drive\n",
        "\n",
        "drive.mount('/content/drive')"
      ],
      "metadata": {
        "colab": {
          "base_uri": "https://localhost:8080/"
        },
        "id": "7ke3jFGgMhlq",
        "outputId": "df4a6da5-b833-4a35-e467-bd018c782cee"
      },
      "execution_count": 5,
      "outputs": [
        {
          "output_type": "stream",
          "name": "stdout",
          "text": [
            "Mounted at /content/drive\n"
          ]
        }
      ]
    },
    {
      "cell_type": "code",
      "source": [
        "%cd /content/drive/MyDrive/ComputerVision-Course/final-project/"
      ],
      "metadata": {
        "colab": {
          "base_uri": "https://localhost:8080/"
        },
        "id": "xm0uJpXhMuPs",
        "outputId": "c0baefc2-36a9-4808-ca19-7d9e11648009"
      },
      "execution_count": 7,
      "outputs": [
        {
          "output_type": "stream",
          "name": "stdout",
          "text": [
            "/content/drive/MyDrive/ComputerVision-Course\n"
          ]
        }
      ]
    },
    {
      "cell_type": "code",
      "source": [
        "# data augmentation\n",
        "# ..."
      ],
      "metadata": {
        "id": "aQyBTPwBM4Ra"
      },
      "execution_count": null,
      "outputs": []
    },
    {
      "cell_type": "code",
      "source": [
        "# folder name: garbage_classification\n",
        "\n",
        "splitfolders.ratio('garbage_classification', output = 'output', seed = 2013,\n",
        "                   ratio = (0.8, 0.2), group_prefix = None, move = False)"
      ],
      "metadata": {
        "colab": {
          "base_uri": "https://localhost:8080/"
        },
        "id": "OGBMj64LNAy7",
        "outputId": "4cc99f03-bba2-4dbc-d2ba-9d0120317ac8"
      },
      "execution_count": 8,
      "outputs": [
        {
          "output_type": "stream",
          "name": "stderr",
          "text": [
            "Copying files: 841 files [00:11, 72.26 files/s] \n"
          ]
        }
      ]
    },
    {
      "cell_type": "code",
      "source": [],
      "metadata": {
        "id": "ZAZy8_YaCRhc"
      },
      "execution_count": null,
      "outputs": []
    },
    {
      "cell_type": "code",
      "source": [
        "transform_scratch = transforms.Compose([transforms.ToTensor()])\n",
        "\n",
        "\n",
        "transform_restnet = transforms.Compose([transforms.ToTensor(), # normalizes to range [0,1]\n",
        "                                        transforms.Normalize(mean=[0.485, 0.456, 0.406],std=[0.229, 0.224, 0.225]) # further normalization\n",
        "                       ])\n",
        "\n",
        "transform_vgg = []\n",
        "\n",
        "transform_alexnet = []"
      ],
      "metadata": {
        "id": "8kFMJPj8BkCj"
      },
      "execution_count": null,
      "outputs": []
    },
    {
      "cell_type": "markdown",
      "source": [
        "# functions prep\n",
        "- function2trainTheModel\n",
        "- visualization"
      ],
      "metadata": {
        "id": "-_QfIPvJD2nV"
      }
    },
    {
      "cell_type": "code",
      "source": [
        "def function2trainTheModel(epochs = 50, model_name = 'vgg', learning_rate_alpha = 0.001, ):\n",
        "  ''' a function that trains the model '''\n",
        "\n",
        "  # number of epochs\n",
        "  numepochs = epochs\n",
        "\n",
        "  # create the model instance\n",
        "  # ... change names\n",
        "  if model_name == 'scratch':\n",
        "    net = ConvolutionalNetwork()\n",
        "  elif model_name == 'vgg':\n",
        "    net = VGG16() # ... change name\n",
        "  elif model_name == 'resnet':\n",
        "    net = resnet()\n",
        "  elif model_name == 'alexnet':\n",
        "    net = alexnet()\n",
        "\n",
        "  # loss function\n",
        "  lossfun = nn.CrossEntropyLoss()\n",
        "\n",
        "  # optimizer\n",
        "  optimizer = torch.optim.Adam(net.parameters(),lr=learning_rate_alpha) # load hyperparameter\n",
        "\n",
        "\n",
        "\n",
        "  # initialize losses\n",
        "  losses    = torch.zeros(numepochs)\n",
        "  trainAcc  = []\n",
        "  testAcc   = []\n",
        "\n",
        "\n",
        "  # loop over epochs\n",
        "  for epochi in range(numepochs):\n",
        "\n",
        "    # loop over training data batches\n",
        "    net.train() ## .train will backprop\n",
        "    net.cuda()\n",
        "    batchAcc  = []\n",
        "    batchLoss = []\n",
        "    for X,y in train_loader:\n",
        "\n",
        "      X = X.cuda()\n",
        "      y = y.cuda()\n",
        "\n",
        "      # forward pass and loss\n",
        "      yHat = net(X)\n",
        "      loss = lossfun(yHat,y)\n",
        "\n",
        "      # backprop\n",
        "      optimizer.zero_grad()\n",
        "      loss.backward()\n",
        "      optimizer.step()\n",
        "\n",
        "      # loss from this batch\n",
        "      batchLoss.append(loss.item())\n",
        "\n",
        "      yHat = yHat.cpu()\n",
        "      y = y.cpu()\n",
        "\n",
        "      # compute accuracy\n",
        "      matches = torch.argmax(yHat,axis=1) == y     # booleans (false/true)\n",
        "      matchesNumeric = matches.float()             # convert to numbers (0/1)\n",
        "      accuracyPct = 100*torch.mean(matchesNumeric) # average and x100\n",
        "      batchAcc.append( accuracyPct )               # add to list of accuracies\n",
        "    # end of batch loop...\n",
        "\n",
        "    # now that we've trained through the batches, get their average training accuracy\n",
        "    trainAcc.append( np.mean(batchAcc) )\n",
        "\n",
        "    # and get average losses across the batches\n",
        "    losses[epochi] = np.mean(batchLoss)\n",
        "\n",
        "    # test accuracy\n",
        "    net.eval() ##.eval = not calculate gradient anymore\n",
        "    X,y = next(iter(test_loader)) # extract X,y from test dataloader\n",
        "\n",
        "     # New!\n",
        "    X = X.cuda() #to(device)\n",
        "    y = y.cuda() #to(device)\n",
        "\n",
        "    with torch.no_grad(): # deactivates autograd\n",
        "     yHat = net(X)\n",
        "\n",
        "    # New! bring outputs back\n",
        "    yHat = yHat.cpu()\n",
        "    y = y.cpu()\n",
        "\n",
        "    # compare the following really long line of code to the training accuracy lines\n",
        "    testAcc.append( 100*torch.mean((torch.argmax(yHat,axis=1)==y).float()) )\n",
        "    if (epochi % 10) == 0:\n",
        "\n",
        "        print(f' epochs : {epochi}  loss : {loss : 2.2f}')\n",
        "  # end epochs\n",
        "\n",
        "  # function output\n",
        "  return trainAcc,testAcc,losses,net\n"
      ],
      "metadata": {
        "id": "eDIgbBPoD5V9"
      },
      "execution_count": null,
      "outputs": []
    },
    {
      "cell_type": "code",
      "source": [
        "# example - train model 1\n",
        "trainAcc_resnet,testAcc_resnet,losses_resnet,net = function2trainTheModel(epochs = 50, model_name = 'resnet', learning_rate_alpha = 0.001, )"
      ],
      "metadata": {
        "id": "bm8bm2T8D5YF"
      },
      "execution_count": null,
      "outputs": []
    },
    {
      "cell_type": "code",
      "source": [
        "def visualization(losses = losses_resnet, trainAcc = trainAcc_resnet,testAcc = testAcc_resnet, model_name = 'ResNet'):\n",
        "\n",
        "  fig, ax = plt.subplots(1,2, figsize = (18,6)) # row = 1, col = 2\n",
        "\n",
        "  # first plot: Training Loss v. Epochs\n",
        "  ax[0].plot(losses, label = 'Train Loss')\n",
        "  ax[0].set_xlabel('Epochs')\n",
        "  ax[0].set_ylabel('Training Loss')\n",
        "  ax[0].legend(fontsize = 15)\n",
        "  ax[0].set_title('Training Loss v. Epochs')\n",
        "\n",
        "  # second plot: Training & Testing Accuracy v. Epochs\n",
        "  ax[1].plot(trainAcc, label = 'Train accuracy')\n",
        "  ax[1].plot(testAcc, label = 'Test accuracy') #test_accuracy starts from 100?\n",
        "  ax[1].set_xlabel('Epochs')\n",
        "  ax[1].set_ylabel('Accuracy (%)')\n",
        "  # print the latest accuracy [-1]\n",
        "  ax[1].set_title(f'Train Accuracy: {trainAcc[-1]:.2f}% \\n Test Accuracy: {testAcc[-1]:.2f}%')\n",
        "  ax[1].legend(fontsize = 15)\n",
        "\n",
        "  plt.show()"
      ],
      "metadata": {
        "id": "IJIS8pSALnd6"
      },
      "execution_count": null,
      "outputs": []
    },
    {
      "cell_type": "markdown",
      "source": [
        "#Model 1: CNN from scratch\n",
        "\n",
        "\n",
        "## 1. dataloader `transform = transforms.Compose([transforms.ToTensor()])`\n",
        "\n",
        "## 2. modeling\n",
        "- create model 1\n",
        "\n",
        "## 3. train model 1\n",
        "## 4. visualize the performance"
      ],
      "metadata": {
        "id": "y2yViVR-8_68"
      }
    },
    {
      "cell_type": "markdown",
      "source": [
        "## 1. load data into batches - model 1\n",
        "batch size = 128"
      ],
      "metadata": {
        "id": "TbbnrhJlOCe0"
      }
    },
    {
      "cell_type": "code",
      "source": [
        "#transform whole folder to tensor\n",
        "#transform_scratch = transforms.Compose([transforms.ToTensor()])\n",
        "\n",
        "\n",
        "# Prepare train test using ImageFolder\n",
        "train_data = datasets.ImageFolder('output/train', transform = transform_scratch)\n",
        "test_data = datasets.ImageFolder('output/val', transform = transform_scratch)\n",
        "\n",
        "\n",
        "print(train_data.classes)\n",
        "print(len(train_data))\n",
        "print(test_data)"
      ],
      "metadata": {
        "id": "4nuKgA8ENeoJ"
      },
      "execution_count": null,
      "outputs": []
    },
    {
      "cell_type": "code",
      "source": [
        "# batch size = 128\n",
        "\n",
        "torch.manual_seed(24)\n",
        "train_loader = DataLoader(train_data, batch_size=128, shuffle=True, drop_last=True)\n",
        "test_loader = DataLoader(test_data, batch_size=128, drop_last=True)\n",
        "\n",
        "class_names = train_data.classes\n",
        "\n",
        "print(class_names)"
      ],
      "metadata": {
        "id": "ObqUJct9N3xP"
      },
      "execution_count": null,
      "outputs": []
    },
    {
      "cell_type": "code",
      "source": [
        "#check train_loader (batch-size = 128, rgb=3, image= x )\n",
        "\n",
        "for images, labels in train_loader:\n",
        "  break\n",
        "print(images.shape, '\\n', labels)"
      ],
      "metadata": {
        "id": "L-TLgz-NN36g"
      },
      "execution_count": null,
      "outputs": []
    },
    {
      "cell_type": "code",
      "source": [
        "print('Label:', labels.numpy())\n",
        "print('Class:', *np.array([class_names[i] for i in labels])) #labels in first batch"
      ],
      "metadata": {
        "id": "VbIEajECSAOO"
      },
      "execution_count": null,
      "outputs": []
    },
    {
      "cell_type": "code",
      "source": [
        "len(labels)"
      ],
      "metadata": {
        "id": "56Vixxr7Yotp"
      },
      "execution_count": null,
      "outputs": []
    },
    {
      "cell_type": "code",
      "source": [
        "im = make_grid(images, nrow = 8) #images in first batch\n",
        "#plt.imshow(np.transpose(im.numpy(), (1,2,0)))"
      ],
      "metadata": {
        "id": "GCcSGKT-SrdL"
      },
      "execution_count": null,
      "outputs": []
    },
    {
      "cell_type": "code",
      "source": [
        "#3*227*227"
      ],
      "metadata": {
        "id": "7DrrsLIxTEc6"
      },
      "execution_count": null,
      "outputs": []
    },
    {
      "cell_type": "markdown",
      "source": [
        "## 2. create - model 1\n"
      ],
      "metadata": {
        "id": "2iXyhkhdTexQ"
      }
    },
    {
      "cell_type": "code",
      "source": [
        "class ConvolutionalNetwork(nn.Module):\n",
        "    def __init__(self):\n",
        "        super().__init__()\n",
        "        # size = 28x28 -> 13x13 -> 5x5 (2 ConV and 2 pooling  is enough to reduce this image size)\n",
        "        # self.conv1 = nn.Conv2d(1, 10, 5, 1,1)\n",
        "        # 1 = channel, 10 = number of kernels, 5 = kernel_size（5x5 your choice), 1 = Stride, 1 = padding\n",
        "        # size: np.floor( (28+2*1-5)/1 )+1 = 26/2 = 13 (/2 b/c maxpool)\n",
        "        ## pooling is in the later code\n",
        "\n",
        "\n",
        "        #self.conv2 = nn.Conv2d(10, 20, 5, 1,1)\n",
        "        # 10 = channels or featuremaps ## match previous kernel numbers\n",
        "        ## 20 = your choice, number of kernels\n",
        "        # size: np.floor( (13+2*1-5)/1 )+1 = 11/2 = 5 (/2 b/c maxpool)\n",
        "\n",
        "        # There are 20 kernels in the conv layer before the FC Layer\n",
        "        # The dim of feature map after conv2 will be 5*5*20\n",
        "\n",
        "        self.conv1 = nn.Conv2d(1, 10, 5, 1,1)\n",
        "        self.conv2 = nn.Conv2d(10, 20, 5, 1,1)\n",
        "\n",
        "        self.fc = nn.LazyLinear(64) #has warning if not running on colab\n",
        "        self.output = nn.Linear(64,12)\n",
        "\n",
        "    def forward(self, X):\n",
        "        X = F.relu(self.conv1(X))\n",
        "        X = F.max_pool2d(X, 2, 2)\n",
        "        X = F.relu(self.conv2(X))\n",
        "        X = F.max_pool2d(X, 2, 2)\n",
        "\n",
        "\n",
        "        X = torch.flatten(X, 1) # Will be used with LazyLinear\n",
        "\n",
        "        X = self.fc(X)\n",
        "        X = F.relu(X)\n",
        "        X = self.output(X)\n",
        "        return X\n",
        "\n"
      ],
      "metadata": {
        "id": "6juiFydYTgZ6"
      },
      "execution_count": null,
      "outputs": []
    },
    {
      "cell_type": "code",
      "source": [
        "torch.manual_seed(101)\n",
        "net = ConvolutionalNetwork()\n",
        "net"
      ],
      "metadata": {
        "id": "jAAv_wpwZQVA"
      },
      "execution_count": null,
      "outputs": []
    },
    {
      "cell_type": "markdown",
      "source": [
        "## 3. train - model 1"
      ],
      "metadata": {
        "id": "O4QugWf9KzSv"
      }
    },
    {
      "cell_type": "code",
      "source": [
        "trainAcc,testAcc,losses,net = function2trainTheModel(epochs = 50, model_name = 'scratch', learning_rate_alpha = 0.001, )"
      ],
      "metadata": {
        "id": "p8tAoM8uepu0"
      },
      "execution_count": null,
      "outputs": []
    },
    {
      "cell_type": "markdown",
      "source": [
        "## 4. visualization - model 1\n",
        "\n",
        "### Training Loss v. Epochs\n",
        "- x-axis: epoches\n",
        "- y-axis: training loss:  losses[epochi] = np.mean(batchLoss)\n",
        "\n",
        "### Training & Testing Accuracy v. Epochs\n",
        "\n",
        "- x-axis: epoches\n",
        "- y-axis: trainAcc.append / testAcc.append"
      ],
      "metadata": {
        "id": "00oyvtHzergY"
      }
    },
    {
      "cell_type": "code",
      "source": [
        "visualization(losses = , trainAcc = ,testAcc = , model_name = '...')"
      ],
      "metadata": {
        "id": "AH08D0FCfFp3"
      },
      "execution_count": null,
      "outputs": []
    },
    {
      "cell_type": "code",
      "source": [],
      "metadata": {
        "id": "72isZa-XhB6s"
      },
      "execution_count": null,
      "outputs": []
    },
    {
      "cell_type": "markdown",
      "source": [
        "# Model 2: ResNet (transfer learning)\n",
        "\n",
        "## 1. load data  with restnet transform\n",
        "\n",
        "## 2. ResNet\n",
        "- load ResNet: `resnet = torchvision.models.resnet18(pretrained=True)`\n",
        "- freeze layers / unfreeze layers\n",
        "\n",
        "## 3. train the model 2\n",
        "## 4. visualize the performance"
      ],
      "metadata": {
        "id": "CFW8xZ-S7JZl"
      }
    },
    {
      "cell_type": "markdown",
      "source": [
        "## 1. load data into batches - model 2"
      ],
      "metadata": {
        "id": "96ZEuc0qKDWQ"
      }
    },
    {
      "cell_type": "code",
      "source": [
        "# Transformations\n",
        "# transform_restnet = transforms.Compose([ transforms.ToTensor(), # normalizes to range [0,1]\n",
        "#                         transforms.Normalize(mean=[0.485, 0.456, 0.406],std=[0.229, 0.224, 0.225]) # further normalization\n",
        "#                        ])\n",
        "\n",
        "\n",
        "# import the data and simultaneously apply the transform\n",
        "trainset = torchvision.datasets.STL10(root='./data', download=True, split='train', transform=transform_restnet)\n",
        "testset  = torchvision.datasets.STL10(root='./data', download=True, split='test',  transform=transform_restnet)\n",
        "\n",
        "\n",
        "# transform to dataloaders\n",
        "batchsize    = 128\n",
        "train_loader = DataLoader(trainset,batch_size=batchsize,shuffle=True,drop_last=True)\n",
        "test_loader  = DataLoader(testset, batch_size=batchsize,shuffle=True,drop_last=True)"
      ],
      "metadata": {
        "id": "5prE1KyW7HqF"
      },
      "execution_count": null,
      "outputs": []
    },
    {
      "cell_type": "code",
      "source": [
        "# check out the shape of the datasets\n",
        "print('Data shapes (train/test):') # Here the data is not normalized. it will be normalized when it comes out of Loader\n",
        "print( trainset.data.shape )\n",
        "print( testset.data.shape )\n",
        "\n",
        "# and the range of pixel intensity values\n",
        "print('\\nData value range:')\n",
        "print( (np.min(trainset.data),np.max(trainset.data)) )\n",
        "\n",
        "# the unique categories\n",
        "print('\\nData categories:')\n",
        "print( trainset.classes )"
      ],
      "metadata": {
        "id": "AHRRVi5a7IQZ"
      },
      "execution_count": null,
      "outputs": []
    },
    {
      "cell_type": "markdown",
      "source": [
        "## 2. load ResNet - model 2\n",
        "- freeze/unfreeze layers"
      ],
      "metadata": {
        "id": "gFHQ6q7aKfM5"
      }
    },
    {
      "cell_type": "code",
      "source": [
        "resnet = torchvision.models.resnet18(pretrained=True)"
      ],
      "metadata": {
        "id": "znuIYN6ZKkPy"
      },
      "execution_count": null,
      "outputs": []
    },
    {
      "cell_type": "markdown",
      "source": [
        "## 3. train - model 2"
      ],
      "metadata": {
        "id": "4OsZcQrWKfDO"
      }
    },
    {
      "cell_type": "code",
      "source": [
        "trainAcc,testAcc,losses,net = function2trainTheModel(epochs = 50, model_name = 'resnet', learning_rate_alpha = 0.001, )"
      ],
      "metadata": {
        "id": "51oUWHDtKshs"
      },
      "execution_count": null,
      "outputs": []
    },
    {
      "cell_type": "markdown",
      "source": [
        "## 4. visualization - model 2"
      ],
      "metadata": {
        "id": "VOPhBh-oKe_B"
      }
    },
    {
      "cell_type": "code",
      "source": [
        "visualization(losses = losses_resnet, trainAcc = trainAcc_resnet,testAcc = testAcc_resnet, model_name = 'ResNet')"
      ],
      "metadata": {
        "id": "W162bYeS7ITN"
      },
      "execution_count": null,
      "outputs": []
    },
    {
      "cell_type": "markdown",
      "source": [
        "# Model 3: VGG (transfer learning)"
      ],
      "metadata": {
        "id": "UZt8E3RA7zOv"
      }
    },
    {
      "cell_type": "markdown",
      "source": [],
      "metadata": {
        "id": "dUM5_SAiNB9Q"
      }
    },
    {
      "cell_type": "markdown",
      "source": [],
      "metadata": {
        "id": "MIF1uotfNCAY"
      }
    },
    {
      "cell_type": "markdown",
      "source": [],
      "metadata": {
        "id": "e6W4oMzwNGQI"
      }
    },
    {
      "cell_type": "markdown",
      "source": [],
      "metadata": {
        "id": "1GaXtZCvNCDK"
      }
    },
    {
      "cell_type": "code",
      "source": [],
      "metadata": {
        "id": "19JiRJPlKOsV"
      },
      "execution_count": null,
      "outputs": []
    },
    {
      "cell_type": "code",
      "source": [],
      "metadata": {
        "id": "xYEZIITLKPIS"
      },
      "execution_count": null,
      "outputs": []
    },
    {
      "cell_type": "code",
      "source": [],
      "metadata": {
        "id": "KWRd9CGxKPKd"
      },
      "execution_count": null,
      "outputs": []
    },
    {
      "cell_type": "code",
      "source": [],
      "metadata": {
        "id": "EiuuP9ZrKPNf"
      },
      "execution_count": null,
      "outputs": []
    },
    {
      "cell_type": "markdown",
      "source": [
        "# Model 4: AlexNet (transfer learning)"
      ],
      "metadata": {
        "id": "9oqcSV6v7zRe"
      }
    },
    {
      "cell_type": "markdown",
      "source": [],
      "metadata": {
        "id": "wAy6caonNHP3"
      }
    },
    {
      "cell_type": "markdown",
      "source": [],
      "metadata": {
        "id": "upmhwDkBNHTI"
      }
    },
    {
      "cell_type": "markdown",
      "source": [],
      "metadata": {
        "id": "_BTqXpRRNHWi"
      }
    },
    {
      "cell_type": "markdown",
      "source": [],
      "metadata": {
        "id": "mqUkC6rvNHZ4"
      }
    },
    {
      "cell_type": "code",
      "source": [],
      "metadata": {
        "id": "_Pqsse-d74iI"
      },
      "execution_count": null,
      "outputs": []
    }
  ]
}